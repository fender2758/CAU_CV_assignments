{
 "cells": [
  {
   "cell_type": "code",
   "execution_count": 1,
   "id": "14609355",
   "metadata": {},
   "outputs": [],
   "source": [
    "import librosa\n",
    "import librosa.display"
   ]
  },
  {
   "cell_type": "code",
   "execution_count": 2,
   "id": "2a057957",
   "metadata": {},
   "outputs": [],
   "source": [
    "import numpy as np\n",
    "import matplotlib.pyplot as plt\n",
    " \n",
    "fs = 48000\n",
    "t = np.arange(0, 3, 1 / fs)\n",
    "f1 = 440\n",
    "f2 = 523.25\n",
    "signal = 3 * np.sin(2 * np.pi * f1 * t) + 1 * np.cos(2 * np.pi * f2 * t + np.pi/2)\n",
    " \n",
    "fft = np.fft.fft(signal) / len(signal)  \n",
    " \n",
    "fft_magnitude = abs(fft)"
   ]
  },
  {
   "cell_type": "code",
   "execution_count": 3,
   "id": "3ac28d1a",
   "metadata": {},
   "outputs": [
    {
     "data": {
      "text/plain": [
       "'\\nplt.figure(figsize=(6,8))\\nplt.subplot(2,1,1)\\nplt.plot(t,signal)\\nplt.grid()\\n \\nplt.subplot(2,1,2)\\nlength = len(signal)\\nf = np.linspace(-(fs / 2), fs / 2, length)   \\n \\nplt.stem(f, np.fft.fftshift(fft_magnitude)) \\nplt.ylim(0,2.5)\\nplt.grid()\\n \\nplt.show()'"
      ]
     },
     "execution_count": 3,
     "metadata": {},
     "output_type": "execute_result"
    }
   ],
   "source": [
    "\"\"\"\n",
    "plt.figure(figsize=(6,8))\n",
    "plt.subplot(2,1,1)\n",
    "plt.plot(t,signal)\n",
    "plt.grid()\n",
    " \n",
    "plt.subplot(2,1,2)\n",
    "length = len(signal)\n",
    "f = np.linspace(-(fs / 2), fs / 2, length)   \n",
    " \n",
    "plt.stem(f, np.fft.fftshift(fft_magnitude)) \n",
    "plt.ylim(0,2.5)\n",
    "plt.grid()\n",
    " \n",
    "plt.show()\"\"\""
   ]
  },
  {
   "cell_type": "code",
   "execution_count": 4,
   "id": "aacdf227",
   "metadata": {},
   "outputs": [],
   "source": [
    "\n",
    "chroma_stft = librosa.feature.chroma_stft(y=signal, sr=fs)"
   ]
  },
  {
   "cell_type": "code",
   "execution_count": 5,
   "id": "e390c189",
   "metadata": {},
   "outputs": [
    {
     "data": {
      "image/png": "[encoded data removed]",
      "text/plain": [
       "<Figure size 720x288 with 2 Axes>"
      ]
     },
     "metadata": {
      "needs_background": "light"
     },
     "output_type": "display_data"
    }
   ],
   "source": [
    "plt.figure(figsize=(10, 4))\n",
    "librosa.display.specshow(chroma_stft, y_axis='chroma', x_axis='time')\n",
    "plt.colorbar()\n",
    "plt.title('Chromagram')\n",
    "plt.tight_layout()\n",
    "plt.show()"
   ]
  },
  {
   "cell_type": "code",
   "execution_count": 6,
   "id": "d8369291",
   "metadata": {},
   "outputs": [
    {
     "data": {
      "text/plain": [
       "'\\nplt.figure(figsize=(6,8))\\nplt.subplot(3,1,1)\\nplt.plot(t,signal)\\nplt.grid()\\n \\nplt.subplot(3,1,2)\\nlength = len(signal)\\nf = np.linspace(-(fs / 2), fs / 2, length)   \\n \\nplt.stem(f, np.fft.fftshift(fft_magnitude)) \\nplt.ylim(0,2.5)\\nplt.grid()\\n \\nplt.subplot(3,1,3)\\nplt.stem(chroma_stft)\\nplt.ylim(0,2.5)\\nplt.grid()\\nplt.show()'"
      ]
     },
     "execution_count": 6,
     "metadata": {},
     "output_type": "execute_result"
    }
   ],
   "source": [
    "\"\"\"\n",
    "plt.figure(figsize=(6,8))\n",
    "plt.subplot(3,1,1)\n",
    "plt.plot(t,signal)\n",
    "plt.grid()\n",
    " \n",
    "plt.subplot(3,1,2)\n",
    "length = len(signal)\n",
    "f = np.linspace(-(fs / 2), fs / 2, length)   \n",
    " \n",
    "plt.stem(f, np.fft.fftshift(fft_magnitude)) \n",
    "plt.ylim(0,2.5)\n",
    "plt.grid()\n",
    " \n",
    "plt.subplot(3,1,3)\n",
    "plt.stem(chroma_stft)\n",
    "plt.ylim(0,2.5)\n",
    "plt.grid()\n",
    "plt.show()\"\"\""
   ]
  },
  {
   "cell_type": "code",
   "execution_count": 7,
   "id": "83814b39",
   "metadata": {},
   "outputs": [],
   "source": [
    "import ffmpeg\n"
   ]
  },
  {
   "cell_type": "code",
   "execution_count": 8,
   "id": "66bac5f9",
   "metadata": {},
   "outputs": [
    {
     "data": {
      "text/plain": [
       "'import ffmpeg\\n\\nin_file = ffmpeg.input(\\'That\\'s Hilarious.mp4\\')\\ntry:\\n    overlay_file = in_file\\n    (\\n        ffmpeg\\n        .concat(\\n            in_file.trim(start_frame=10, end_frame=20),\\n            in_file.trim(start_frame=30, end_frame=100),\\n        )\\n        .overlay(overlay_file.hflip())\\n        .drawbox(50, 50, 120, 120, color=\\'red\\', thickness=5)\\n        .output(\\'out.mp4\\')\\n        .run(capture_stdout=True, capture_stderr=True)\\n    )\\n    \\nexcept ffmpeg.Error as e:\\n    print(e)\\n    print(\\'stdout:\\', e.stdout.decode(\"utf8\"))\\n    print(\\'stderr:\\', e.stderr.decode(\"utf8\"))\\n    raise e'"
      ]
     },
     "execution_count": 8,
     "metadata": {},
     "output_type": "execute_result"
    }
   ],
   "source": [
    "\"\"\"import ffmpeg\n",
    "\n",
    "in_file = ffmpeg.input('That\\'s Hilarious.mp4')\n",
    "try:\n",
    "    overlay_file = in_file\n",
    "    (\n",
    "        ffmpeg\n",
    "        .concat(\n",
    "            in_file.trim(start_frame=10, end_frame=20),\n",
    "            in_file.trim(start_frame=30, end_frame=100),\n",
    "        )\n",
    "        .overlay(overlay_file.hflip())\n",
    "        .drawbox(50, 50, 120, 120, color='red', thickness=5)\n",
    "        .output('out.mp4')\n",
    "        .run(capture_stdout=True, capture_stderr=True)\n",
    "    )\n",
    "    \n",
    "except ffmpeg.Error as e:\n",
    "    print(e)\n",
    "    print('stdout:', e.stdout.decode(\"utf8\"))\n",
    "    print('stderr:', e.stderr.decode(\"utf8\"))\n",
    "    raise e\"\"\""
   ]
  },
  {
   "cell_type": "code",
   "execution_count": 9,
   "id": "5a071800",
   "metadata": {},
   "outputs": [
    {
     "name": "stdout",
     "output_type": "stream",
     "text": [
      "MoviePy - Writing audio in cache/audio.wav\n"
     ]
    },
    {
     "name": "stderr",
     "output_type": "stream",
     "text": [
      "                                                                                                                       "
     ]
    },
    {
     "name": "stdout",
     "output_type": "stream",
     "text": [
      "MoviePy - Done.\n"
     ]
    },
    {
     "name": "stderr",
     "output_type": "stream",
     "text": [
      "\r"
     ]
    }
   ],
   "source": [
    "# 모듈 로딩 후 오디오 추출\n",
    "import moviepy.editor as mp\n",
    "\n",
    "clip = mp.VideoFileClip('That\\'s Hilarious.mp4')\n",
    "clip.audio.write_audiofile(\"cache/audio.wav\")"
   ]
  },
  {
   "cell_type": "code",
   "execution_count": 10,
   "id": "b33908a8",
   "metadata": {},
   "outputs": [],
   "source": [
    "y, sr = librosa.load(\"cache/audio.wav\")\n",
    "\n"
   ]
  },
  {
   "cell_type": "code",
   "execution_count": 11,
   "id": "8df89d54",
   "metadata": {},
   "outputs": [
    {
     "data": {
      "image/png": "[encoded data removed]",
      "text/plain": [
       "<Figure size 720x288 with 2 Axes>"
      ]
     },
     "metadata": {
      "needs_background": "light"
     },
     "output_type": "display_data"
    }
   ],
   "source": [
    "start = 10\n",
    "end = 11\n",
    "chroma_stft = librosa.feature.chroma_stft(y=y[sr*start:sr*end], sr=sr)\n",
    "plt.figure(figsize=(10, 4))\n",
    "librosa.display.specshow(chroma_stft, y_axis='chroma', x_axis='time')\n",
    "plt.colorbar()\n",
    "plt.title('Chromagram')\n",
    "plt.tight_layout()\n",
    "plt.show()"
   ]
  },
  {
   "cell_type": "code",
   "execution_count": 12,
   "id": "3bec0f6a",
   "metadata": {},
   "outputs": [],
   "source": [
    "import mediapipe as mp\n",
    "import cv2 as cv\n",
    "\n",
    "mp_drawing = mp.solutions.drawing_utils\n",
    "mp_drawing_styles = mp.solutions.drawing_styles\n",
    "mp_hands = mp.solutions.hands\n"
   ]
  },
  {
   "cell_type": "code",
   "execution_count": null,
   "id": "e5cec345",
   "metadata": {},
   "outputs": [],
   "source": []
  },
  {
   "cell_type": "code",
   "execution_count": 13,
   "id": "ff8a937d",
   "metadata": {},
   "outputs": [],
   "source": [
    "def show_video_in_jupyter_nb(width, height, video_url):\n",
    "    from IPython.display import HTML\n",
    "    return HTML(\"\"\"<video width=\"{}\" height=\"{}\" controls>\n",
    "    <source src={} type=\"video/mp4\">\n",
    "    </video>\"\"\".format(width, height, video_url))\n"
   ]
  },
  {
   "cell_type": "code",
   "execution_count": 14,
   "id": "3f47fbe5",
   "metadata": {},
   "outputs": [],
   "source": [
    "from IPython.display import Image "
   ]
  },
  {
   "cell_type": "code",
   "execution_count": null,
   "id": "f9d6e2b0",
   "metadata": {},
   "outputs": [],
   "source": [
    "\n",
    "cap = cv.VideoCapture('That\\'s Hilarious.mp4')\n",
    "cap.set(1, 200)\n",
    "\n",
    "ret, image = cap.read()\n",
    "cv.imwrite(\"test.png\", image)\n",
    "#image = cv.cvtColor(image, cv.COLOR_BGR2RGB)\n",
    "cv.imshow(\"hello\", image)\n",
    "cv.waitKey(0)\n",
    "cv.destroyAllWindows()"
   ]
  },
  {
   "cell_type": "code",
   "execution_count": null,
   "id": "051b1e6b",
   "metadata": {},
   "outputs": [],
   "source": [
    "\n",
    "image = cv.imread(\"fret_test.png\")\n"
   ]
  },
  {
   "cell_type": "code",
   "execution_count": null,
   "id": "2abac6aa",
   "metadata": {},
   "outputs": [],
   "source": [
    "\n",
    "Cpy = image.copy()\n",
    "GRAY = cv.cvtColor(image, cv.COLOR_BGR2GRAY)\n",
    "#edges = cv.Sobel(GRAY, cv.CV_64F, 1, 0, ksize=5)\n",
    "#edges = cv.convertScaleAbs(edges)\n",
    "\n",
    "edges = cv.Canny(GRAY,30,30,apertureSize = 3)\n",
    "lines = cv.HoughLines(edges,1,np.pi/180,200)\n",
    "lines = cv.HoughLines(edges,1,np.pi/180,10)\n",
    "print(lines)\n",
    "rho,theta = lines[0][0]\n",
    "\n",
    "a = np.cos(theta)\n",
    "b = np.sin(theta)\n",
    "maxx = a*rho\n",
    "minx = a*rho\n",
    "maxy = b*rho\n",
    "miny = b*rho\n",
    "for line in lines:\n",
    "    rho,theta = line[0]\n",
    "    \n",
    "    a = np.cos(theta)\n",
    "    b = np.sin(theta)\n",
    "    x0 = a*rho\n",
    "    y0 = b*rho\n",
    "    if y0>maxy:\n",
    "        maxy = y0\n",
    "    if y0<miny and y0!=0:\n",
    "        miny = y0\n",
    "    if 3>theta>-3:\n",
    "        if x0>maxx:\n",
    "            maxx = x0\n",
    "        if x0<maxx and x0!=0:\n",
    "            minx = x0\n",
    "    x1 = int(x0 + 2000*(-b))\n",
    "    x2 = int(x0 - 2000*(-b))\n",
    "    y1 = int(y0 + 2000*(a))\n",
    "    y2 = int(y0 - 2000*(a))\n",
    "    cv.line(Cpy,(x1,y1),(x2,y2),(0,0,255),2)\n",
    "\n",
    "cv.imshow(\"original\", image)\n",
    "cv.imshow(\"image\", Cpy)\n",
    "cv.imshow(\"canny\", edges)\n",
    "cv.imshow(\"cut\", image[:][int(miny):int(maxy)])\n",
    "#cv.imshow(\"hough\", lines)\n",
    "cv.waitKey(0)\n",
    "cv.destroyAllWindows()"
   ]
  },
  {
   "cell_type": "code",
   "execution_count": null,
   "id": "c95aacc1",
   "metadata": {},
   "outputs": [],
   "source": [
    "\n",
    "cap = cv.VideoCapture('That\\'s Hilarious.mp4')\n",
    "\n",
    "width = int(cap.get(cv.CAP_PROP_FRAME_WIDTH)) # 또는 cap.get(3)\n",
    "height = int(cap.get(cv.CAP_PROP_FRAME_HEIGHT)) # 또는 cap.get(4)\n",
    "fps = int(cap.get(cv.CAP_PROP_FPS)) # 또는 cap.get(5)\n",
    "fps_count = int(cap.get(cv.CAP_PROP_FRAME_COUNT))\n",
    "print('프레임 너비: %d, 프레임 높이: %d, 초당 프레임 수: %d' %(width, height, fps))\n",
    "fourcc = cv.VideoWriter_fourcc(*'DIVX') # 코덱 정의\n",
    "out = cv.VideoWriter('cache/01.avi', fourcc, 1, (int(640), int(480))) # VideoWriter 객체\n",
    "out_sound = cv.VideoWriter('cache/02.avi', fourcc, 1, (int(640), int(480))) # VideoWriter 객체\n",
    "\n",
    "i=0\n",
    "\n",
    "perc=0\n",
    "\n",
    "with mp_hands.Hands(\n",
    "    #model_complexity=0,\n",
    "    min_detection_confidence=0.5,\n",
    "    min_tracking_confidence=0.5) as hands:\n",
    "    \n",
    "    for current_frame in range(0, fps_count, 10):\n",
    "        cap.set(1, current_frame)\n",
    "\n",
    "        ret, image = cap.read()\n",
    "        if not ret:\n",
    "            print(\"프레임을 수신할 수 없습니다(스트림 끝?). 종료 중 ...\")\n",
    "            break\n",
    "            \"\"\"\n",
    "        if i%(int(fps)*1)!=0:\n",
    "            i+=1\n",
    "            continue\n",
    "    \"\"\"\n",
    "        print(\"[\", end=\"\")\n",
    "        for k in range(int(perc)):\n",
    "            print(\"=\", end=\"\")\n",
    "        for k in range(33-int(perc)):\n",
    "            print(\".\", end=\"\")\n",
    "        print(\"]\", end=\"\")\n",
    "        print(str(current_frame)+\"/\"+str(fps_count), end=\"\")\n",
    "\n",
    "        print('\\r', end='')\n",
    "        if int(current_frame*33/fps_count)>=perc:\n",
    "            perc+=1\n",
    "\n",
    "        image.flags.writeable = False\n",
    "        image = cv.cvtColor(image, cv.COLOR_BGR2RGB)\n",
    "        results = hands.process(image)\n",
    "\n",
    "        # Draw the hand annotations on the image.\n",
    "        image.flags.writeable = True\n",
    "        image = cv.cvtColor(image, cv.COLOR_RGB2BGR)\n",
    "        if results.multi_hand_landmarks:\n",
    "          for hand_landmarks in results.multi_hand_landmarks:\n",
    "            mp_drawing.draw_landmarks(\n",
    "                image,\n",
    "                hand_landmarks,\n",
    "                mp_hands.HAND_CONNECTIONS,\n",
    "                mp_drawing_styles.get_default_hand_landmarks_style(),\n",
    "                mp_drawing_styles.get_default_hand_connections_style())\n",
    "        # Flip the image horizontally for a selfie-view display.\n",
    "\n",
    "        fig,ax = plt.subplots()\n",
    "        \n",
    "        chroma_stft = librosa.feature.chroma_stft(y=y[int(sr*(current_frame/fps)):int(sr*(current_frame/fps+1))], sr=sr)\n",
    "\n",
    "        \n",
    "        librosa.display.specshow(chroma_stft, y_axis='chroma', x_axis='time')\n",
    "        \n",
    "        plt.colorbar()\n",
    "        plt.title('Chromagram')\n",
    "        plt.tight_layout()\n",
    "        \n",
    "        fig.canvas.draw()\n",
    "        img = np.fromstring(fig.canvas.tostring_rgb(), dtype=np.uint8,\n",
    "                sep='')\n",
    "\n",
    "        img  = img.reshape(fig.canvas.get_width_height()[::-1] + (3,))\n",
    "        #print(img.shape)\n",
    "        img = cv.cvtColor(img,cv.COLOR_RGB2BGR)\n",
    "        \n",
    "        \n",
    "        fig.clf()\n",
    "        ax.cla() \n",
    "        plt.close(fig)\n",
    "\n",
    "        out.write(cv.flip(image, 1))\n",
    "        out_sound.write(img)\n",
    "        if cv.waitKey(5) & 0xFF == 27:\n",
    "          break\n",
    "    \n",
    "    print(\"\\n end\")\n",
    "\n",
    "cap.release()\n",
    "out.release()"
   ]
  },
  {
   "cell_type": "code",
   "execution_count": null,
   "id": "b9bda212",
   "metadata": {},
   "outputs": [],
   "source": []
  }
 ],
 "metadata": {
  "kernelspec": {
   "display_name": "Python 3 (ipykernel)",
   "language": "python",
   "name": "python3"
  },
  "language_info": {
   "codemirror_mode": {
    "name": "ipython",
    "version": 3
   },
   "file_extension": ".py",
   "mimetype": "text/x-python",
   "name": "python",
   "nbconvert_exporter": "python",
   "pygments_lexer": "ipython3",
   "version": "3.9.12"
  }
 },
 "nbformat": 4,
 "nbformat_minor": 5
}
